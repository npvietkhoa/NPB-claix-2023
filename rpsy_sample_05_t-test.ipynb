{
  "nbformat": 4,
  "nbformat_minor": 0,
  "metadata": {
    "colab": {
      "provenance": [],
      "authorship_tag": "ABX9TyN0l0fAyN/K4eNKz/tLnaUx",
      "include_colab_link": true
    },
    "kernelspec": {
      "name": "ir",
      "display_name": "R"
    },
    "language_info": {
      "name": "R"
    }
  },
  "cells": [
    {
      "cell_type": "markdown",
      "metadata": {
        "id": "view-in-github",
        "colab_type": "text"
      },
      "source": [
        "<a href=\"https://colab.research.google.com/github/npvietkhoa/NPB-claix-2023/blob/main/rpsy_sample_05_t-test.ipynb\" target=\"_parent\"><img src=\"https://colab.research.google.com/assets/colab-badge.svg\" alt=\"Open In Colab\"/></a>"
      ]
    },
    {
      "cell_type": "markdown",
      "source": [
        "# T-Test"
      ],
      "metadata": {
        "id": "WQ1Ot5g0N-N_"
      }
    },
    {
      "cell_type": "code",
      "source": [
        "install.packages(c(\"ggplot2\", \"pastecs\", \"WRS\"))"
      ],
      "metadata": {
        "colab": {
          "base_uri": "https://localhost:8080/"
        },
        "id": "qOLa8YCPOxgk",
        "outputId": "d7f69262-fd1f-4d64-fa5d-7de4837836c1"
      },
      "execution_count": 15,
      "outputs": [
        {
          "output_type": "stream",
          "name": "stderr",
          "text": [
            "Installing packages into ‘/usr/local/lib/R/site-library’\n",
            "(as ‘lib’ is unspecified)\n",
            "\n",
            "Warning message:\n",
            "“package ‘WRS’ is not available for this version of R\n",
            "\n",
            "A version of this package for your version of R might be available elsewhere,\n",
            "see the ideas at\n",
            "https://cran.r-project.org/doc/manuals/r-patched/R-admin.html#Installing-packages”\n"
          ]
        }
      ]
    },
    {
      "cell_type": "code",
      "execution_count": 16,
      "metadata": {
        "id": "hlVCJYiLM17q"
      },
      "outputs": [],
      "source": [
        "library(readxl)\n",
        "library(ggplot2)\n",
        "library(pastecs)\n",
        "# library(WRS)"
      ]
    },
    {
      "cell_type": "markdown",
      "source": [
        "## Independent T-test"
      ],
      "metadata": {
        "id": "kSjhUlteOBhU"
      }
    },
    {
      "cell_type": "markdown",
      "source": [
        "Setup Hypothesis:\n",
        "\n",
        "$H_0: \\mu_{\\text{treatment}} \\leq \\mu_{\\text{control}}$: Null Hypothesis - No difference between 2 groups\n",
        "\n",
        "$H_1: \\mu_{\\text{treatment}} > \\mu_{\\text{control}} $"
      ],
      "metadata": {
        "id": "Vn34pAn3OOFi"
      }
    },
    {
      "cell_type": "markdown",
      "source": [
        "### A sample"
      ],
      "metadata": {
        "id": "p7MaHyrNRPKo"
      }
    },
    {
      "cell_type": "code",
      "source": [
        "# Propose an approach to split data (here is score) into groups and test those groups.\n",
        "group <- gl(2, 25, labels = c('Treatment', 'Control'))\n",
        "score <- c(21,19,21,23,12,18,14,14,18,17,11,23,18,19,13,16,21,12,21,14,20,18,16,18,20,\n",
        "           17,19,15,12,21,5,8,11,17,5,14,19,12,12,10,9,3,18,12,8,15,16,14,13,10)"
      ],
      "metadata": {
        "id": "7GHM8Px5RRLJ"
      },
      "execution_count": 41,
      "outputs": []
    },
    {
      "cell_type": "code",
      "source": [
        "indep_t <- t.test(score ~ group, alternative = 'greater')"
      ],
      "metadata": {
        "id": "kQcQ3lWZRSV3"
      },
      "execution_count": 42,
      "outputs": []
    },
    {
      "cell_type": "code",
      "source": [
        "indep_t"
      ],
      "metadata": {
        "colab": {
          "base_uri": "https://localhost:8080/",
          "height": 204
        },
        "id": "-P9hfis3RsWz",
        "outputId": "c456817f-a49e-471b-9ba6-bbd0a33f43b2"
      },
      "execution_count": 43,
      "outputs": [
        {
          "output_type": "display_data",
          "data": {
            "text/plain": [
              "\n",
              "\tWelch Two Sample t-test\n",
              "\n",
              "data:  score by group\n",
              "t = 4.1737, df = 44.337, p-value = 6.888e-05\n",
              "alternative hypothesis: true difference in means between group Treatment and group Control is greater than 0\n",
              "95 percent confidence interval:\n",
              " 2.915769      Inf\n",
              "sample estimates:\n",
              "mean in group Treatment   mean in group Control \n",
              "                  17.48                   12.60 \n"
            ]
          },
          "metadata": {}
        }
      ]
    },
    {
      "cell_type": "code",
      "source": [
        "indep_t$conf.int"
      ],
      "metadata": {
        "colab": {
          "base_uri": "https://localhost:8080/",
          "height": 34
        },
        "id": "2xxleUx0WUPF",
        "outputId": "f2212c0b-f4dc-4ce4-9461-257f11bdd5f7"
      },
      "execution_count": 44,
      "outputs": [
        {
          "output_type": "display_data",
          "data": {
            "text/html": [
              "<style>\n",
              ".list-inline {list-style: none; margin:0; padding: 0}\n",
              ".list-inline>li {display: inline-block}\n",
              ".list-inline>li:not(:last-child)::after {content: \"\\00b7\"; padding: 0 .5ex}\n",
              "</style>\n",
              "<ol class=list-inline><li>2.91576894586617</li><li>Inf</li></ol>\n"
            ],
            "text/markdown": "1. 2.91576894586617\n2. Inf\n\n\n",
            "text/latex": "\\begin{enumerate*}\n\\item 2.91576894586617\n\\item Inf\n\\end{enumerate*}\n",
            "text/plain": [
              "[1] 2.915769      Inf\n",
              "attr(,\"conf.level\")\n",
              "[1] 0.95"
            ]
          },
          "metadata": {}
        }
      ]
    },
    {
      "cell_type": "code",
      "source": [
        "indep_t$p.value"
      ],
      "metadata": {
        "colab": {
          "base_uri": "https://localhost:8080/",
          "height": 34
        },
        "id": "E9f0QrUcWXYv",
        "outputId": "2117cba3-95ee-432c-b7e9-cc02c032eb7a"
      },
      "execution_count": 45,
      "outputs": [
        {
          "output_type": "display_data",
          "data": {
            "text/html": [
              "6.88769256208413e-05"
            ],
            "text/markdown": "6.88769256208413e-05",
            "text/latex": "6.88769256208413e-05",
            "text/plain": [
              "[1] 6.887693e-05"
            ]
          },
          "metadata": {}
        }
      ]
    },
    {
      "cell_type": "code",
      "source": [
        "indep_t$parameter"
      ],
      "metadata": {
        "colab": {
          "base_uri": "https://localhost:8080/",
          "height": 34
        },
        "id": "dniVYS9NWj2B",
        "outputId": "04c710e4-88b4-4aaf-9e7e-d749bb808102"
      },
      "execution_count": 46,
      "outputs": [
        {
          "output_type": "display_data",
          "data": {
            "text/html": [
              "<strong>df:</strong> 44.337095496414"
            ],
            "text/markdown": "**df:** 44.337095496414",
            "text/latex": "\\textbf{df:} 44.337095496414",
            "text/plain": [
              "     df \n",
              "44.3371 "
            ]
          },
          "metadata": {}
        }
      ]
    },
    {
      "cell_type": "code",
      "source": [
        "indep_t$statistic"
      ],
      "metadata": {
        "colab": {
          "base_uri": "https://localhost:8080/",
          "height": 34
        },
        "id": "hiJRAcUZWu8z",
        "outputId": "8dc7dcf9-46f9-4f59-be7f-99defb8c756b"
      },
      "execution_count": 47,
      "outputs": [
        {
          "output_type": "display_data",
          "data": {
            "text/html": [
              "<strong>t:</strong> 4.17373599716104"
            ],
            "text/markdown": "**t:** 4.17373599716104",
            "text/latex": "\\textbf{t:} 4.17373599716104",
            "text/plain": [
              "       t \n",
              "4.173736 "
            ]
          },
          "metadata": {}
        }
      ]
    },
    {
      "cell_type": "markdown",
      "source": [
        "## Paired-sampled T-test\n",
        "We have 2 samples of groups: before and after treatment.\n",
        "This is suitable for paired-sampled t-test: two samples are related/matched (e.g., pre-post, twins)?"
      ],
      "metadata": {
        "id": "QvxYCPy_kOkf"
      }
    },
    {
      "cell_type": "code",
      "source": [
        "data <- read_excel(\"./rpsy_dataset_05.xlsx\")"
      ],
      "metadata": {
        "id": "q68MTuAXk60d"
      },
      "execution_count": 48,
      "outputs": []
    },
    {
      "cell_type": "code",
      "source": [
        "head(data)"
      ],
      "metadata": {
        "colab": {
          "base_uri": "https://localhost:8080/",
          "height": 283
        },
        "id": "DyruO8qmk-PR",
        "outputId": "5293ace8-dde0-4974-ff4c-034542ec8f19"
      },
      "execution_count": 49,
      "outputs": [
        {
          "output_type": "display_data",
          "data": {
            "text/html": [
              "<table class=\"dataframe\">\n",
              "<caption>A tibble: 6 × 3</caption>\n",
              "<thead>\n",
              "\t<tr><th scope=col>id</th><th scope=col>before_Treatment</th><th scope=col>after_Treatment</th></tr>\n",
              "\t<tr><th scope=col>&lt;dbl&gt;</th><th scope=col>&lt;dbl&gt;</th><th scope=col>&lt;dbl&gt;</th></tr>\n",
              "</thead>\n",
              "<tbody>\n",
              "\t<tr><td>1</td><td>14</td><td>21</td></tr>\n",
              "\t<tr><td>2</td><td> 9</td><td>19</td></tr>\n",
              "\t<tr><td>3</td><td>10</td><td>21</td></tr>\n",
              "\t<tr><td>4</td><td>15</td><td>23</td></tr>\n",
              "\t<tr><td>5</td><td>17</td><td>12</td></tr>\n",
              "\t<tr><td>6</td><td>16</td><td>18</td></tr>\n",
              "</tbody>\n",
              "</table>\n"
            ],
            "text/markdown": "\nA tibble: 6 × 3\n\n| id &lt;dbl&gt; | before_Treatment &lt;dbl&gt; | after_Treatment &lt;dbl&gt; |\n|---|---|---|\n| 1 | 14 | 21 |\n| 2 |  9 | 19 |\n| 3 | 10 | 21 |\n| 4 | 15 | 23 |\n| 5 | 17 | 12 |\n| 6 | 16 | 18 |\n\n",
            "text/latex": "A tibble: 6 × 3\n\\begin{tabular}{lll}\n id & before\\_Treatment & after\\_Treatment\\\\\n <dbl> & <dbl> & <dbl>\\\\\n\\hline\n\t 1 & 14 & 21\\\\\n\t 2 &  9 & 19\\\\\n\t 3 & 10 & 21\\\\\n\t 4 & 15 & 23\\\\\n\t 5 & 17 & 12\\\\\n\t 6 & 16 & 18\\\\\n\\end{tabular}\n",
            "text/plain": [
              "  id before_Treatment after_Treatment\n",
              "1 1  14               21             \n",
              "2 2   9               19             \n",
              "3 3  10               21             \n",
              "4 4  15               23             \n",
              "5 5  17               12             \n",
              "6 6  16               18             "
            ]
          },
          "metadata": {}
        }
      ]
    },
    {
      "cell_type": "code",
      "source": [
        "pair.t.test <- t.test(data$after_Treatment, data$before_Treatment, paired = TRUE)"
      ],
      "metadata": {
        "id": "eTXzfuUwlENL"
      },
      "execution_count": 50,
      "outputs": []
    },
    {
      "cell_type": "code",
      "source": [
        "pair.t.test"
      ],
      "metadata": {
        "colab": {
          "base_uri": "https://localhost:8080/",
          "height": 204
        },
        "id": "huM00Dl-lQ_u",
        "outputId": "9faf561c-fabd-4d90-b1f6-00336672ade6"
      },
      "execution_count": 51,
      "outputs": [
        {
          "output_type": "display_data",
          "data": {
            "text/plain": [
              "\n",
              "\tPaired t-test\n",
              "\n",
              "data:  data$after_Treatment and data$before_Treatment\n",
              "t = 4.7623, df = 24, p-value = 7.6e-05\n",
              "alternative hypothesis: true mean difference is not equal to 0\n",
              "95 percent confidence interval:\n",
              " 2.651771 6.708229\n",
              "sample estimates:\n",
              "mean difference \n",
              "           4.68 \n"
            ]
          },
          "metadata": {}
        }
      ]
    }
  ]
}