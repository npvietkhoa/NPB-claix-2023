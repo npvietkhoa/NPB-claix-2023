{
  "nbformat": 4,
  "nbformat_minor": 0,
  "metadata": {
    "colab": {
      "provenance": [],
      "authorship_tag": "ABX9TyM6SXrPWppbokT1SBhLQu45",
      "include_colab_link": true
    },
    "kernelspec": {
      "name": "ir",
      "display_name": "R"
    },
    "language_info": {
      "name": "R"
    }
  },
  "cells": [
    {
      "cell_type": "markdown",
      "metadata": {
        "id": "view-in-github",
        "colab_type": "text"
      },
      "source": [
        "<a href=\"https://colab.research.google.com/github/npvietkhoa/NPB-claix-2023/blob/main/rpsy_hw_05_t-test.ipynb\" target=\"_parent\"><img src=\"https://colab.research.google.com/assets/colab-badge.svg\" alt=\"Open In Colab\"/></a>"
      ]
    },
    {
      "cell_type": "markdown",
      "source": [
        "# T-test I"
      ],
      "metadata": {
        "id": "uyYjSH5wsY7q"
      }
    },
    {
      "cell_type": "markdown",
      "source": [
        "# Exercise 01\n",
        "Imagine you did the following experiment:\n",
        "You randomly assigned your fellow students to two groups:\n",
        "The first group plays a board game called “Siedler von Catan”.\n",
        "The second group plays a role-play game called “Dungeons and Dragons”.\n",
        "After playing the students state their fun on a range between 1 and 100."
      ],
      "metadata": {
        "id": "1gP1N9iSsf-1"
      }
    },
    {
      "cell_type": "markdown",
      "source": [
        "a) Which test do you have to take to analyze the data?\n",
        "- T-test - independent test\n",
        "b) State an undirectional hypothesis for this experiment (null and alternative\n",
        "hypothesis).\n",
        "- $H_0$: both group have the same fun level. - Null Hypothesis.\n",
        "- $H_1$: groups don't have same fun level. - Alternative Hypothesis.\n",
        "c) State a directional hypothesis for this experiment (null and alternative\n",
        "hypothesis).\n",
        "- $H_0$: both group have the same fun level. - Null Hypothesis.\n",
        "- $H_1$: Group plays “Siedler von Catan” has more fun than the other."
      ],
      "metadata": {
        "id": "Vat-xhXfsnoE"
      }
    },
    {
      "cell_type": "markdown",
      "source": [
        "d) Pick one of the hypotheses and do a t-test. Do as following: Open the Excel file `05_Homework_Data.xlsx` with R. It contains the satisfaction level of the students split in the two game groups."
      ],
      "metadata": {
        "id": "jh0cPRj9t-V_"
      }
    },
    {
      "cell_type": "code",
      "source": [
        "library(readxl)"
      ],
      "metadata": {
        "id": "6PYSwTw5sftz"
      },
      "execution_count": 16,
      "outputs": []
    },
    {
      "cell_type": "code",
      "execution_count": 17,
      "metadata": {
        "id": "mU0nCVClsV8r"
      },
      "outputs": [],
      "source": [
        "df <- read_excel(\"rpsy_dataset_05_t-test.xlsx\")"
      ]
    },
    {
      "cell_type": "code",
      "source": [
        "head(df)"
      ],
      "metadata": {
        "colab": {
          "base_uri": "https://localhost:8080/",
          "height": 283
        },
        "id": "b_BzwNahuQzH",
        "outputId": "59209656-0215-4c21-ce32-c9fea5d02e1d"
      },
      "execution_count": 18,
      "outputs": [
        {
          "output_type": "display_data",
          "data": {
            "text/html": [
              "<table class=\"dataframe\">\n",
              "<caption>A tibble: 6 × 2</caption>\n",
              "<thead>\n",
              "\t<tr><th scope=col>dnd-players</th><th scope=col>Siedler-players</th></tr>\n",
              "\t<tr><th scope=col>&lt;dbl&gt;</th><th scope=col>&lt;dbl&gt;</th></tr>\n",
              "</thead>\n",
              "<tbody>\n",
              "\t<tr><td>48</td><td>46</td></tr>\n",
              "\t<tr><td>36</td><td>51</td></tr>\n",
              "\t<tr><td>34</td><td>57</td></tr>\n",
              "\t<tr><td>60</td><td>44</td></tr>\n",
              "\t<tr><td>67</td><td>78</td></tr>\n",
              "\t<tr><td>59</td><td>46</td></tr>\n",
              "</tbody>\n",
              "</table>\n"
            ],
            "text/markdown": "\nA tibble: 6 × 2\n\n| dnd-players &lt;dbl&gt; | Siedler-players &lt;dbl&gt; |\n|---|---|\n| 48 | 46 |\n| 36 | 51 |\n| 34 | 57 |\n| 60 | 44 |\n| 67 | 78 |\n| 59 | 46 |\n\n",
            "text/latex": "A tibble: 6 × 2\n\\begin{tabular}{ll}\n dnd-players & Siedler-players\\\\\n <dbl> & <dbl>\\\\\n\\hline\n\t 48 & 46\\\\\n\t 36 & 51\\\\\n\t 34 & 57\\\\\n\t 60 & 44\\\\\n\t 67 & 78\\\\\n\t 59 & 46\\\\\n\\end{tabular}\n",
            "text/plain": [
              "  dnd-players Siedler-players\n",
              "1 48          46             \n",
              "2 36          51             \n",
              "3 34          57             \n",
              "4 60          44             \n",
              "5 67          78             \n",
              "6 59          46             "
            ]
          },
          "metadata": {}
        }
      ]
    },
    {
      "cell_type": "markdown",
      "source": [
        "a) State which hypothesis you picked."
      ],
      "metadata": {
        "id": "okbjaeYmuesV"
      }
    },
    {
      "cell_type": "code",
      "source": [
        "indep_test <- t.test(df$`dnd-players`, df$`Siedler-players`)"
      ],
      "metadata": {
        "id": "sIGEecHYuRbP"
      },
      "execution_count": 19,
      "outputs": []
    },
    {
      "cell_type": "code",
      "source": [
        "indep_test"
      ],
      "metadata": {
        "colab": {
          "base_uri": "https://localhost:8080/",
          "height": 204
        },
        "id": "dKxhGhX_urqy",
        "outputId": "a0bc7854-8c1d-4abf-c594-f277b085f529"
      },
      "execution_count": 20,
      "outputs": [
        {
          "output_type": "display_data",
          "data": {
            "text/plain": [
              "\n",
              "\tWelch Two Sample t-test\n",
              "\n",
              "data:  df$`dnd-players` and df$`Siedler-players`\n",
              "t = 2.3756, df = 97.758, p-value = 0.01947\n",
              "alternative hypothesis: true difference in means is not equal to 0\n",
              "95 percent confidence interval:\n",
              "  1.185253 13.214747\n",
              "sample estimates:\n",
              "mean of x mean of y \n",
              "    56.52     49.32 \n"
            ]
          },
          "metadata": {}
        }
      ]
    },
    {
      "cell_type": "markdown",
      "source": [
        "b) Calculate the empirical t-value. Write your answer here with degrees of\n",
        "freedom."
      ],
      "metadata": {
        "id": "tmbIwax-vwB2"
      }
    },
    {
      "cell_type": "code",
      "source": [
        "t_val <- indep_test$statistic[[1]]\n",
        "degree <- indep_test$parameter[[1]]\n",
        "c(t_val, degree)"
      ],
      "metadata": {
        "colab": {
          "base_uri": "https://localhost:8080/",
          "height": 34
        },
        "id": "SRf-Jh0yuxAM",
        "outputId": "e1936ce8-bdff-4de3-cd18-b31cb765cbb0"
      },
      "execution_count": 21,
      "outputs": [
        {
          "output_type": "display_data",
          "data": {
            "text/html": [
              "<style>\n",
              ".list-inline {list-style: none; margin:0; padding: 0}\n",
              ".list-inline>li {display: inline-block}\n",
              ".list-inline>li:not(:last-child)::after {content: \"\\00b7\"; padding: 0 .5ex}\n",
              "</style>\n",
              "<ol class=list-inline><li>2.37559584177636</li><li>97.758060695222</li></ol>\n"
            ],
            "text/markdown": "1. 2.37559584177636\n2. 97.758060695222\n\n\n",
            "text/latex": "\\begin{enumerate*}\n\\item 2.37559584177636\n\\item 97.758060695222\n\\end{enumerate*}\n",
            "text/plain": [
              "[1]  2.375596 97.758061"
            ]
          },
          "metadata": {}
        }
      ]
    },
    {
      "cell_type": "code",
      "source": [
        "r <- sqrt(t_val^2/(t_val^2+degree))"
      ],
      "metadata": {
        "id": "_ZpQUAySv2rD"
      },
      "execution_count": 22,
      "outputs": []
    },
    {
      "cell_type": "code",
      "source": [
        "r"
      ],
      "metadata": {
        "colab": {
          "base_uri": "https://localhost:8080/",
          "height": 34
        },
        "id": "ELMa-ow_wCPj",
        "outputId": "111f3b85-194d-4711-dc45-e45fac53cecd"
      },
      "execution_count": 23,
      "outputs": [
        {
          "output_type": "display_data",
          "data": {
            "text/html": [
              "0.233619506791727"
            ],
            "text/markdown": "0.233619506791727",
            "text/latex": "0.233619506791727",
            "text/plain": [
              "[1] 0.2336195"
            ]
          },
          "metadata": {}
        }
      ]
    },
    {
      "cell_type": "markdown",
      "source": [
        "c) Draw a conclusion about your hypothesis.\n",
        "- Null Hypothesis is rejected because of high p-value. There is the difference between fun level of groups play two games."
      ],
      "metadata": {
        "id": "uTyqxfHRwJMj"
      }
    },
    {
      "cell_type": "markdown",
      "source": [
        "##Exercise 02:\n",
        "There are two other t-tests which you got to know in the seminar.\n",
        "\n",
        "a) Name them.\n",
        "- Paired-samples test and One sample test"
      ],
      "metadata": {
        "id": "NiIfifmdwZ5a"
      }
    },
    {
      "cell_type": "markdown",
      "source": [
        "b) In a few sentences, describe an experiment in which one of the t-tests from\n",
        "question 2a can be used.\n",
        "\n",
        "- *Paired-samples test*: use for related samples or relationship (pre-post, twins, etc.). E.g. blood sugar level of patients before and after meal.\n",
        "- *One sample test*: Compare sample mean with known or hypothesized mean of population. E.g. Is the average weight of a group of elementary school students the same as the average weight of elementary school students nationwide?"
      ],
      "metadata": {
        "id": "VttSBJ0IwprH"
      }
    },
    {
      "cell_type": "markdown",
      "source": [
        "c) Imagine you conduct the experiment you just described with n = 50."
      ],
      "metadata": {
        "id": "3b3Mn4Lx0Jrh"
      }
    },
    {
      "cell_type": "markdown",
      "source": [
        "a. State a hypothesis for this experiment (either directional or undirectional).\n",
        "Which did you pick?\n",
        "- $H_0$: blood sugar level of patients before and after meal has no change.\n",
        "- $H_1$ (alternative): blood sugar level of patients before and after meal has changes."
      ],
      "metadata": {
        "id": "WlDEw-hdExYG"
      }
    },
    {
      "cell_type": "markdown",
      "source": [
        "b. Find the critical t-value for your hypothesis by using the t-table.\n",
        "- *df* = n - 1 = 50 - 1 = 49\n",
        "- undirectional $→$ t = 2.00958"
      ],
      "metadata": {
        "id": "8jMDpvQfFvk-"
      }
    },
    {
      "cell_type": "markdown",
      "source": [
        "c. Imagine your empirical t-value is $t_{\\text{temp}}$= 3.5. Comparing to your critical t-value what can you conclude for your hypothesis?\n",
        "- $t_{\\text{crit}} < t_{\\text{temp}} \\Rightarrow$ significant different $→$ Null Hypothesis is rejected."
      ],
      "metadata": {
        "id": "efuyInJnHMjx"
      }
    }
  ]
}